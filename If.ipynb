{
 "cells": [
  {
   "cell_type": "code",
   "execution_count": 2,
   "metadata": {},
   "outputs": [],
   "source": [
    "import numpy as np\n",
    "from numpy.random import randn"
   ]
  },
  {
   "cell_type": "code",
   "execution_count": 3,
   "metadata": {},
   "outputs": [
    {
     "data": {
      "text/plain": [
       "1.162198219234168"
      ]
     },
     "execution_count": 3,
     "metadata": {},
     "output_type": "execute_result"
    }
   ],
   "source": [
    "randn ()"
   ]
  },
  {
   "cell_type": "code",
   "execution_count": 35,
   "metadata": {},
   "outputs": [
    {
     "name": "stdout",
     "output_type": "stream",
     "text": [
      "0.9207326706028928\n",
      "Less than 1\n"
     ]
    }
   ],
   "source": [
    "answer = None\n",
    "x = randn ()\n",
    "if x > 1:\n",
    "    answer = \"Greater than 1\"\n",
    "else:\n",
    "    answer = \"Less than 1\"\n",
    "    print (x)\n",
    "    print (answer)"
   ]
  },
  {
   "cell_type": "code",
   "execution_count": 60,
   "metadata": {},
   "outputs": [
    {
     "name": "stdout",
     "output_type": "stream",
     "text": [
      "0.42325393323597676\n",
      "Between -1 and 1\n"
     ]
    }
   ],
   "source": [
    "answer = None\n",
    "x = randn ()\n",
    "if x > 1:\n",
    "    answer = \"Greater than 1\"\n",
    "else:\n",
    "    if x >= -1:\n",
    "        answer = \"Between -1 and 1\"\n",
    "    else:\n",
    "        answer = \"Less than 1\"\n",
    "print (x)\n",
    "print (answer)"
   ]
  },
  {
   "cell_type": "code",
   "execution_count": null,
   "metadata": {},
   "outputs": [],
   "source": []
  }
 ],
 "metadata": {
  "kernelspec": {
   "display_name": "Python 3",
   "language": "python",
   "name": "python3"
  },
  "language_info": {
   "codemirror_mode": {
    "name": "ipython",
    "version": 3
   },
   "file_extension": ".py",
   "mimetype": "text/x-python",
   "name": "python",
   "nbconvert_exporter": "python",
   "pygments_lexer": "ipython3",
   "version": "3.8.5"
  }
 },
 "nbformat": 4,
 "nbformat_minor": 4
}
